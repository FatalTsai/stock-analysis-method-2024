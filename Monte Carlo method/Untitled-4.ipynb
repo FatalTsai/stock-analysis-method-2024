{
 "cells": [
  {
   "cell_type": "code",
   "execution_count": 36,
   "metadata": {},
   "outputs": [],
   "source": [
    "#importing relevant modules\n",
    "\n",
    "import pandas as pd \n",
    "import numpy as np\n",
    "import matplotlib.pyplot as plt\n",
    "import datetime as dt\n",
    "import yfinance as yf"
   ]
  },
  {
   "cell_type": "code",
   "execution_count": 37,
   "metadata": {},
   "outputs": [
    {
     "name": "stderr",
     "output_type": "stream",
     "text": [
      "<>:1: SyntaxWarning: invalid escape sequence '\\D'\n",
      "<>:1: SyntaxWarning: invalid escape sequence '\\D'\n",
      "C:\\Users\\sulab\\AppData\\Local\\Temp\\ipykernel_20644\\1567347391.py:1: SyntaxWarning: invalid escape sequence '\\D'\n",
      "  combinedf = pd.read_csv('C:\\\\Users\\\\sulab\\Downloads\\\\combine.csv')\n"
     ]
    }
   ],
   "source": [
    "combinedf = pd.read_csv('C:\\\\Users\\\\sulab\\Downloads\\\\combine.csv')\n",
    "returns = combinedf.loc[:,['15w','8w','20w','combine']].pct_change()[2:]"
   ]
  },
  {
   "cell_type": "code",
   "execution_count": 38,
   "metadata": {},
   "outputs": [],
   "source": [
    "meanReturns = returns.mean()\n",
    "covMatrix = returns.cov()"
   ]
  },
  {
   "cell_type": "code",
   "execution_count": 39,
   "metadata": {},
   "outputs": [],
   "source": [
    "# weights = [15/43,8/43,20/43,0/43] # 14394.788081812878,11536.02730906777\n",
    "weights = [0,0,0,43/43] # 13396.576615235634 ,11350.050055853413\n"
   ]
  },
  {
   "cell_type": "markdown",
   "metadata": {},
   "source": []
  },
  {
   "cell_type": "code",
   "execution_count": 40,
   "metadata": {},
   "outputs": [],
   "source": [
    "# monte carlo simulation\n",
    "\n",
    "mc_sims = 40000 # number of simulations\n",
    "T = 100 #timeframe in days\n",
    "\n",
    "\n",
    "meanM = np.full(shape=(T, len(weights)), fill_value=meanReturns)\n",
    "meanM = meanM.T\n",
    "portfolio_sims = np.full(shape=(T, mc_sims), fill_value=0.0)\n",
    "initialPortfolio = 10000\n",
    "for m in range(0, mc_sims):\n",
    "    Z = np.random.normal(size=(T, len(weights)))#uncorrelated RV's\n",
    "    L = np.linalg.cholesky(covMatrix) #cholesky decomposition\n",
    "    dailyReturns = meanM + np.inner(L, Z) #correlated daily returns for individual stocks\n",
    "    portfolio_sims[:,m] = np.cumprod(np.inner(weights, dailyReturns.T)+1)*initialPortfolio"
   ]
  },
  {
   "cell_type": "code",
   "execution_count": 41,
   "metadata": {},
   "outputs": [
    {
     "name": "stdout",
     "output_type": "stream",
     "text": [
      "13384.264047598932\n",
      "8450.76457814331\n",
      "11343.790437399577\n"
     ]
    }
   ],
   "source": [
    "Avg_portf_returns = np.mean(portfolio_sims[T-5:,:]-1)\n",
    "SD_portf_returns = np.std(portfolio_sims[T-5:,:]-1)\n",
    "Median_portf_returns = np.median(portfolio_sims[T-5:,:]-1)\n",
    "print(Avg_portf_returns)\n",
    "print(SD_portf_returns)\n",
    "print(Median_portf_returns)"
   ]
  },
  {
   "cell_type": "code",
   "execution_count": 42,
   "metadata": {},
   "outputs": [],
   "source": [
    "#plotting the simulation\n",
    "# plt.plot(portfolio_sims)\n",
    "# plt.ylabel('Predicted Portfolio Value ($)')\n",
    "# plt.xlabel('Days')\n",
    "# plt.title('Monte Carlo Simulation of Stock Portfolio')\n",
    "# plt.show()"
   ]
  }
 ],
 "metadata": {
  "kernelspec": {
   "display_name": "Python 3",
   "language": "python",
   "name": "python3"
  },
  "language_info": {
   "codemirror_mode": {
    "name": "ipython",
    "version": 3
   },
   "file_extension": ".py",
   "mimetype": "text/x-python",
   "name": "python",
   "nbconvert_exporter": "python",
   "pygments_lexer": "ipython3",
   "version": "3.12.1"
  }
 },
 "nbformat": 4,
 "nbformat_minor": 2
}
